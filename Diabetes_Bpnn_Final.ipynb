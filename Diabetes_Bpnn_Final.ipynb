{
  "nbformat": 4,
  "nbformat_minor": 0,
  "metadata": {
    "colab": {
      "provenance": [],
      "mount_file_id": "1MPkd-hMeqIt3hC0c3E_umD7BPO1IIF_5",
      "authorship_tag": "ABX9TyMbOe+qvoto2y5DnsBAZScz",
      "include_colab_link": true
    },
    "kernelspec": {
      "name": "python3",
      "display_name": "Python 3"
    },
    "language_info": {
      "name": "python"
    }
  },
  "cells": [
    {
      "cell_type": "markdown",
      "metadata": {
        "id": "view-in-github",
        "colab_type": "text"
      },
      "source": [
        "<a href=\"https://colab.research.google.com/github/TirmidziOthman/Diabetes-BPNN/blob/main/Diabetes_Bpnn_Final.ipynb\" target=\"_parent\"><img src=\"https://colab.research.google.com/assets/colab-badge.svg\" alt=\"Open In Colab\"/></a>"
      ]
    },
    {
      "cell_type": "code",
      "execution_count": null,
      "metadata": {
        "id": "A35G7MQGlztC"
      },
      "outputs": [],
      "source": [
        "import numpy as np\n",
        "import pandas as pd\n",
        "from sklearn.datasets import load_iris\n",
        "from sklearn.model_selection import train_test_split\n",
        "import matplotlib.pyplot as plt\n",
        "from sklearn.preprocessing import LabelEncoder\n",
        "from sklearn.preprocessing import StandardScaler\n",
        "import warnings\n",
        "from sklearn.preprocessing import MinMaxScaler\n",
        "from sklearn.preprocessing import StandardScaler\n",
        "from sklearn.utils import shuffle\n",
        "import matplotlib.pyplot as plt"
      ]
    },
    {
      "cell_type": "code",
      "source": [
        "data = pd.read_csv(\"/content/drive/MyDrive/Colab Notebooks/datasets/diabetesV2.csv.arff.csv\")\n",
        "print(\"Database raw shape (%s,%s)\" % np.shape(data))\n",
        "data"
      ],
      "metadata": {
        "colab": {
          "base_uri": "https://localhost:8080/",
          "height": 441
        },
        "id": "c-n4v7pnl7Xb",
        "outputId": "82e606c7-cd92-4880-b12e-78f2a8605abe"
      },
      "execution_count": null,
      "outputs": [
        {
          "output_type": "stream",
          "name": "stdout",
          "text": [
            "Database raw shape (768,9)\n"
          ]
        },
        {
          "output_type": "execute_result",
          "data": {
            "text/plain": [
              "     Pregnancies  Glucose  BloodPressure  SkinThickness     Insulin   BMI  \\\n",
              "0       6.000000    148.0           72.0      35.000000  105.659898  33.6   \n",
              "1       1.000000     85.0           66.0      29.000000  105.659898  26.6   \n",
              "2       8.000000    183.0           64.0      25.876155  105.659898  23.3   \n",
              "3       1.000000     89.0           66.0      23.000000   94.000000  28.1   \n",
              "4       4.165906    137.0            4.0      35.000000  168.000000  43.1   \n",
              "..           ...      ...            ...            ...         ...   ...   \n",
              "763     1.000000     11.0           76.0      48.000000   18.000000  32.9   \n",
              "764     2.000000    122.0            7.0      27.000000  105.659898  36.8   \n",
              "765     5.000000    121.0           72.0      23.000000  112.000000  26.2   \n",
              "766     1.000000    126.0            6.0      25.876155  105.659898   3.1   \n",
              "767     1.000000     93.0            7.0      31.000000  105.659898   3.4   \n",
              "\n",
              "     DiabetesPedigreeFunction  Age   Outcome  \n",
              "0                       0.627    5  Diabetes  \n",
              "1                       0.351   31    Normal  \n",
              "2                       0.672   32  Diabetes  \n",
              "3                       0.167   21    Normal  \n",
              "4                       2.288   33  Diabetes  \n",
              "..                        ...  ...       ...  \n",
              "763                     0.171   63    Normal  \n",
              "764                     0.340   27    Normal  \n",
              "765                     0.245    3    Normal  \n",
              "766                     0.349   47  Diabetes  \n",
              "767                     0.315   23    Normal  \n",
              "\n",
              "[768 rows x 9 columns]"
            ],
            "text/html": [
              "\n",
              "  <div id=\"df-274d3dd0-4e38-4ec5-b9c4-1040d940d3e9\">\n",
              "    <div class=\"colab-df-container\">\n",
              "      <div>\n",
              "<style scoped>\n",
              "    .dataframe tbody tr th:only-of-type {\n",
              "        vertical-align: middle;\n",
              "    }\n",
              "\n",
              "    .dataframe tbody tr th {\n",
              "        vertical-align: top;\n",
              "    }\n",
              "\n",
              "    .dataframe thead th {\n",
              "        text-align: right;\n",
              "    }\n",
              "</style>\n",
              "<table border=\"1\" class=\"dataframe\">\n",
              "  <thead>\n",
              "    <tr style=\"text-align: right;\">\n",
              "      <th></th>\n",
              "      <th>Pregnancies</th>\n",
              "      <th>Glucose</th>\n",
              "      <th>BloodPressure</th>\n",
              "      <th>SkinThickness</th>\n",
              "      <th>Insulin</th>\n",
              "      <th>BMI</th>\n",
              "      <th>DiabetesPedigreeFunction</th>\n",
              "      <th>Age</th>\n",
              "      <th>Outcome</th>\n",
              "    </tr>\n",
              "  </thead>\n",
              "  <tbody>\n",
              "    <tr>\n",
              "      <th>0</th>\n",
              "      <td>6.000000</td>\n",
              "      <td>148.0</td>\n",
              "      <td>72.0</td>\n",
              "      <td>35.000000</td>\n",
              "      <td>105.659898</td>\n",
              "      <td>33.6</td>\n",
              "      <td>0.627</td>\n",
              "      <td>5</td>\n",
              "      <td>Diabetes</td>\n",
              "    </tr>\n",
              "    <tr>\n",
              "      <th>1</th>\n",
              "      <td>1.000000</td>\n",
              "      <td>85.0</td>\n",
              "      <td>66.0</td>\n",
              "      <td>29.000000</td>\n",
              "      <td>105.659898</td>\n",
              "      <td>26.6</td>\n",
              "      <td>0.351</td>\n",
              "      <td>31</td>\n",
              "      <td>Normal</td>\n",
              "    </tr>\n",
              "    <tr>\n",
              "      <th>2</th>\n",
              "      <td>8.000000</td>\n",
              "      <td>183.0</td>\n",
              "      <td>64.0</td>\n",
              "      <td>25.876155</td>\n",
              "      <td>105.659898</td>\n",
              "      <td>23.3</td>\n",
              "      <td>0.672</td>\n",
              "      <td>32</td>\n",
              "      <td>Diabetes</td>\n",
              "    </tr>\n",
              "    <tr>\n",
              "      <th>3</th>\n",
              "      <td>1.000000</td>\n",
              "      <td>89.0</td>\n",
              "      <td>66.0</td>\n",
              "      <td>23.000000</td>\n",
              "      <td>94.000000</td>\n",
              "      <td>28.1</td>\n",
              "      <td>0.167</td>\n",
              "      <td>21</td>\n",
              "      <td>Normal</td>\n",
              "    </tr>\n",
              "    <tr>\n",
              "      <th>4</th>\n",
              "      <td>4.165906</td>\n",
              "      <td>137.0</td>\n",
              "      <td>4.0</td>\n",
              "      <td>35.000000</td>\n",
              "      <td>168.000000</td>\n",
              "      <td>43.1</td>\n",
              "      <td>2.288</td>\n",
              "      <td>33</td>\n",
              "      <td>Diabetes</td>\n",
              "    </tr>\n",
              "    <tr>\n",
              "      <th>...</th>\n",
              "      <td>...</td>\n",
              "      <td>...</td>\n",
              "      <td>...</td>\n",
              "      <td>...</td>\n",
              "      <td>...</td>\n",
              "      <td>...</td>\n",
              "      <td>...</td>\n",
              "      <td>...</td>\n",
              "      <td>...</td>\n",
              "    </tr>\n",
              "    <tr>\n",
              "      <th>763</th>\n",
              "      <td>1.000000</td>\n",
              "      <td>11.0</td>\n",
              "      <td>76.0</td>\n",
              "      <td>48.000000</td>\n",
              "      <td>18.000000</td>\n",
              "      <td>32.9</td>\n",
              "      <td>0.171</td>\n",
              "      <td>63</td>\n",
              "      <td>Normal</td>\n",
              "    </tr>\n",
              "    <tr>\n",
              "      <th>764</th>\n",
              "      <td>2.000000</td>\n",
              "      <td>122.0</td>\n",
              "      <td>7.0</td>\n",
              "      <td>27.000000</td>\n",
              "      <td>105.659898</td>\n",
              "      <td>36.8</td>\n",
              "      <td>0.340</td>\n",
              "      <td>27</td>\n",
              "      <td>Normal</td>\n",
              "    </tr>\n",
              "    <tr>\n",
              "      <th>765</th>\n",
              "      <td>5.000000</td>\n",
              "      <td>121.0</td>\n",
              "      <td>72.0</td>\n",
              "      <td>23.000000</td>\n",
              "      <td>112.000000</td>\n",
              "      <td>26.2</td>\n",
              "      <td>0.245</td>\n",
              "      <td>3</td>\n",
              "      <td>Normal</td>\n",
              "    </tr>\n",
              "    <tr>\n",
              "      <th>766</th>\n",
              "      <td>1.000000</td>\n",
              "      <td>126.0</td>\n",
              "      <td>6.0</td>\n",
              "      <td>25.876155</td>\n",
              "      <td>105.659898</td>\n",
              "      <td>3.1</td>\n",
              "      <td>0.349</td>\n",
              "      <td>47</td>\n",
              "      <td>Diabetes</td>\n",
              "    </tr>\n",
              "    <tr>\n",
              "      <th>767</th>\n",
              "      <td>1.000000</td>\n",
              "      <td>93.0</td>\n",
              "      <td>7.0</td>\n",
              "      <td>31.000000</td>\n",
              "      <td>105.659898</td>\n",
              "      <td>3.4</td>\n",
              "      <td>0.315</td>\n",
              "      <td>23</td>\n",
              "      <td>Normal</td>\n",
              "    </tr>\n",
              "  </tbody>\n",
              "</table>\n",
              "<p>768 rows × 9 columns</p>\n",
              "</div>\n",
              "      <button class=\"colab-df-convert\" onclick=\"convertToInteractive('df-274d3dd0-4e38-4ec5-b9c4-1040d940d3e9')\"\n",
              "              title=\"Convert this dataframe to an interactive table.\"\n",
              "              style=\"display:none;\">\n",
              "        \n",
              "  <svg xmlns=\"http://www.w3.org/2000/svg\" height=\"24px\"viewBox=\"0 0 24 24\"\n",
              "       width=\"24px\">\n",
              "    <path d=\"M0 0h24v24H0V0z\" fill=\"none\"/>\n",
              "    <path d=\"M18.56 5.44l.94 2.06.94-2.06 2.06-.94-2.06-.94-.94-2.06-.94 2.06-2.06.94zm-11 1L8.5 8.5l.94-2.06 2.06-.94-2.06-.94L8.5 2.5l-.94 2.06-2.06.94zm10 10l.94 2.06.94-2.06 2.06-.94-2.06-.94-.94-2.06-.94 2.06-2.06.94z\"/><path d=\"M17.41 7.96l-1.37-1.37c-.4-.4-.92-.59-1.43-.59-.52 0-1.04.2-1.43.59L10.3 9.45l-7.72 7.72c-.78.78-.78 2.05 0 2.83L4 21.41c.39.39.9.59 1.41.59.51 0 1.02-.2 1.41-.59l7.78-7.78 2.81-2.81c.8-.78.8-2.07 0-2.86zM5.41 20L4 18.59l7.72-7.72 1.47 1.35L5.41 20z\"/>\n",
              "  </svg>\n",
              "      </button>\n",
              "      \n",
              "  <style>\n",
              "    .colab-df-container {\n",
              "      display:flex;\n",
              "      flex-wrap:wrap;\n",
              "      gap: 12px;\n",
              "    }\n",
              "\n",
              "    .colab-df-convert {\n",
              "      background-color: #E8F0FE;\n",
              "      border: none;\n",
              "      border-radius: 50%;\n",
              "      cursor: pointer;\n",
              "      display: none;\n",
              "      fill: #1967D2;\n",
              "      height: 32px;\n",
              "      padding: 0 0 0 0;\n",
              "      width: 32px;\n",
              "    }\n",
              "\n",
              "    .colab-df-convert:hover {\n",
              "      background-color: #E2EBFA;\n",
              "      box-shadow: 0px 1px 2px rgba(60, 64, 67, 0.3), 0px 1px 3px 1px rgba(60, 64, 67, 0.15);\n",
              "      fill: #174EA6;\n",
              "    }\n",
              "\n",
              "    [theme=dark] .colab-df-convert {\n",
              "      background-color: #3B4455;\n",
              "      fill: #D2E3FC;\n",
              "    }\n",
              "\n",
              "    [theme=dark] .colab-df-convert:hover {\n",
              "      background-color: #434B5C;\n",
              "      box-shadow: 0px 1px 3px 1px rgba(0, 0, 0, 0.15);\n",
              "      filter: drop-shadow(0px 1px 2px rgba(0, 0, 0, 0.3));\n",
              "      fill: #FFFFFF;\n",
              "    }\n",
              "  </style>\n",
              "\n",
              "      <script>\n",
              "        const buttonEl =\n",
              "          document.querySelector('#df-274d3dd0-4e38-4ec5-b9c4-1040d940d3e9 button.colab-df-convert');\n",
              "        buttonEl.style.display =\n",
              "          google.colab.kernel.accessAllowed ? 'block' : 'none';\n",
              "\n",
              "        async function convertToInteractive(key) {\n",
              "          const element = document.querySelector('#df-274d3dd0-4e38-4ec5-b9c4-1040d940d3e9');\n",
              "          const dataTable =\n",
              "            await google.colab.kernel.invokeFunction('convertToInteractive',\n",
              "                                                     [key], {});\n",
              "          if (!dataTable) return;\n",
              "\n",
              "          const docLinkHtml = 'Like what you see? Visit the ' +\n",
              "            '<a target=\"_blank\" href=https://colab.research.google.com/notebooks/data_table.ipynb>data table notebook</a>'\n",
              "            + ' to learn more about interactive tables.';\n",
              "          element.innerHTML = '';\n",
              "          dataTable['output_type'] = 'display_data';\n",
              "          await google.colab.output.renderOutput(dataTable, element);\n",
              "          const docLink = document.createElement('div');\n",
              "          docLink.innerHTML = docLinkHtml;\n",
              "          element.appendChild(docLink);\n",
              "        }\n",
              "      </script>\n",
              "    </div>\n",
              "  </div>\n",
              "  "
            ]
          },
          "metadata": {},
          "execution_count": 2
        }
      ]
    },
    {
      "cell_type": "code",
      "source": [
        "data = pd.DataFrame(data,columns=['Pregnancies','Glucose','BloodPressure','SkinThickness'\n",
        "                                  ,'Insulin','BMI','DiabetesPedigreeFunction','Age','Outcome'])\n",
        "\n",
        "X =  data.iloc[:,0:7].values\n",
        "\n",
        "\n",
        "#replace target class with 0 and 1\n",
        "data['Outcome'] = data['Outcome'].replace('Normal', 0)\n",
        "data['Outcome'] = data['Outcome'].replace('Diabetes', 1)\n",
        "\n",
        "y_label=data.iloc[:,-1].values\n",
        "\n",
        "y_label = pd.get_dummies(y_label).values\n",
        "\n",
        "y_label[:3]\n",
        "\n",
        "#split data into train and test set\n",
        "Xtrain, Xtest, ytrain, ytest = train_test_split(X, y_label, test_size=0.2, random_state=2)\n",
        "\n",
        "#standardize the dataset\n",
        "sc = StandardScaler()\n",
        "sc.fit(Xtrain)\n",
        "Xtrain = sc.transform(Xtrain)\n",
        "Xtest = sc.transform(Xtest)\n",
        "\n",
        "print(f\"Shape of train set is {Xtrain.shape}\")\n",
        "print(f\"Shape of test set is {Xtest.shape}\")\n",
        "print(f\"Shape of train label is {ytrain.shape}\")\n",
        "print(f\"Shape of test labels is {ytest.shape}\")\n"
      ],
      "metadata": {
        "id": "NcW0EnkcmUoz",
        "colab": {
          "base_uri": "https://localhost:8080/"
        },
        "outputId": "e92dde2f-3dcb-4c56-80a6-c662e51e8fe0"
      },
      "execution_count": null,
      "outputs": [
        {
          "output_type": "stream",
          "name": "stdout",
          "text": [
            "Shape of train set is (614, 7)\n",
            "Shape of test set is (154, 7)\n",
            "Shape of train label is (614, 2)\n",
            "Shape of test labels is (154, 2)\n"
          ]
        }
      ]
    },
    {
      "cell_type": "code",
      "source": [
        "class NeuralNet():\n",
        "    '''\n",
        "    A two layer neural network\n",
        "    '''\n",
        "\n",
        "    def __init__(self, layers=[7,8,2], learning_rate=0.01, iterations=100):\n",
        "        self.params = {}\n",
        "        self.learning_rate = learning_rate\n",
        "        self.iterations = iterations\n",
        "        self.loss = []\n",
        "        self.sample_size = None\n",
        "        self.layers = layers\n",
        "        self.X = None\n",
        "        self.y = None\n",
        "\n",
        "    def init_weights(self):\n",
        "        '''\n",
        "        Initialize the weights from a random normal distribution\n",
        "        '''\n",
        "        np.random.seed(1) # Seed the random number generator\n",
        "        self.params[\"W1\"] = np.random.randn(self.layers[0], self.layers[1])\n",
        "        self.params['b1']  =np.random.randn(self.layers[1],)\n",
        "        self.params['W2'] = np.random.randn(self.layers[1],self.layers[2])\n",
        "        self.params['b2'] = np.random.randn(self.layers[2],)\n",
        "\n",
        "    def relu(self,Z):\n",
        "        '''\n",
        "        The ReLu activation function is to performs a threshold\n",
        "        operation to each input element where values less\n",
        "        than zero are set to zero.\n",
        "        '''\n",
        "        return np.maximum(0,Z)\n",
        "\n",
        "    def dRelu(self, x):\n",
        "        x[x<=0] = 0\n",
        "        x[x>0] = 1\n",
        "        return x\n",
        "\n",
        "    def eta(self, x):\n",
        "      ETA = 0.0000000001\n",
        "      return np.maximum(x, ETA)\n",
        "\n",
        "\n",
        "    def sigmoid(self,Z):\n",
        "        '''\n",
        "        The sigmoid function takes in real numbers in any range and\n",
        "        squashes it to a real-valued output between 0 and 1.\n",
        "        '''\n",
        "        return 1/(1+np.exp(-Z))\n",
        "\n",
        "    def entropy_loss(self,y, yhat):\n",
        "        nsample = len(y)\n",
        "        yhat_inv = 1.0 - yhat\n",
        "        y_inv = 1.0 - y\n",
        "        yhat = self.eta(yhat) ## clips value to avoid NaNs in log\n",
        "        yhat_inv = self.eta(yhat_inv)\n",
        "        loss = -1/nsample * (np.sum(np.multiply(np.log(yhat), y) + np.multiply((y_inv), np.log(yhat_inv))))\n",
        "        return loss\n",
        "\n",
        "    def forward_propagation(self):\n",
        "        '''\n",
        "        Performs the forward propagation\n",
        "        '''\n",
        "\n",
        "        Z1 = self.X.dot(self.params['W1']) + self.params['b1']\n",
        "        A1 = self.relu(Z1)\n",
        "        Z2 = A1.dot(self.params['W2']) + self.params['b2']\n",
        "        yhat = self.sigmoid(Z2)\n",
        "        loss = self.entropy_loss(self.y,yhat)\n",
        "\n",
        "        # save calculated parameters\n",
        "        self.params['Z1'] = Z1\n",
        "        self.params['Z2'] = Z2\n",
        "        self.params['A1'] = A1\n",
        "\n",
        "        return yhat,loss\n",
        "\n",
        "    def back_propagation(self,yhat):\n",
        "        '''\n",
        "        Computes the derivatives and update weights and bias according.\n",
        "        '''\n",
        "        y_inv = 1 - self.y\n",
        "        yhat_inv = 1 - yhat\n",
        "\n",
        "        dl_wrt_yhat = np.divide(y_inv, self.eta(yhat_inv)) - np.divide(self.y, self.eta(yhat))\n",
        "        dl_wrt_sig = yhat * (yhat_inv)\n",
        "        dl_wrt_z2 = dl_wrt_yhat * dl_wrt_sig\n",
        "\n",
        "        dl_wrt_A1 = dl_wrt_z2.dot(self.params['W2'].T)\n",
        "        dl_wrt_w2 = self.params['A1'].T.dot(dl_wrt_z2)\n",
        "        dl_wrt_b2 = np.sum(dl_wrt_z2, axis=0, keepdims=True)\n",
        "\n",
        "        dl_wrt_z1 = dl_wrt_A1 * self.dRelu(self.params['Z1'])\n",
        "        dl_wrt_w1 = self.X.T.dot(dl_wrt_z1)\n",
        "        dl_wrt_b1 = np.sum(dl_wrt_z1, axis=0, keepdims=True)\n",
        "\n",
        "        #update the weights and bias\n",
        "        self.params['W1'] = self.params['W1'] - self.learning_rate * dl_wrt_w1\n",
        "        self.params['W2'] = self.params['W2'] - self.learning_rate * dl_wrt_w2\n",
        "        self.params['b1'] = self.params['b1'] - self.learning_rate * dl_wrt_b1\n",
        "        self.params['b2'] = self.params['b2'] - self.learning_rate * dl_wrt_b2\n",
        "\n",
        "    def fit(self, X, y):\n",
        "        '''\n",
        "        Trains the neural network using the specified data and labels\n",
        "        '''\n",
        "        self.X = X\n",
        "        self.y = y\n",
        "        self.init_weights() #initialize weights and bias\n",
        "\n",
        "\n",
        "        for i in range(self.iterations):\n",
        "            yhat, loss = self.forward_propagation()\n",
        "            self.back_propagation(yhat)\n",
        "            self.loss.append(loss)\n",
        "\n",
        "    def predict(self, X):\n",
        "        '''\n",
        "        Predicts on a test data\n",
        "        '''\n",
        "        Z1 = X.dot(self.params['W1']) + self.params['b1']\n",
        "        A1 = self.relu(Z1)\n",
        "        Z2 = A1.dot(self.params['W2']) + self.params['b2']\n",
        "        pred = self.sigmoid(Z2)\n",
        "        return np.round(pred)\n",
        "\n",
        "    def acc(self, y, yhat):\n",
        "        '''\n",
        "        Calculates the accutacy between the predicted valuea and the truth labels\n",
        "        '''\n",
        "        acc = int(sum(y.argmax(axis=1) == yhat.argmax(axis=1)) / len(y) * 100)\n",
        "        return acc\n",
        "\n",
        "\n",
        "    def plot_loss(self):\n",
        "        '''\n",
        "        Plots the loss curve\n",
        "        '''\n",
        "        plt.plot(self.loss)\n",
        "        plt.xlabel(\"Iteration\")\n",
        "        plt.ylabel(\"logloss\")\n",
        "        plt.title(\"Loss curve for training\")\n",
        "        plt.show()"
      ],
      "metadata": {
        "id": "WE5BOgSQqYkj"
      },
      "execution_count": null,
      "outputs": []
    },
    {
      "cell_type": "markdown",
      "source": [
        "# **Model Training 1**"
      ],
      "metadata": {
        "id": "moFuke-iAy7c"
      }
    },
    {
      "cell_type": "code",
      "source": [
        "nn = NeuralNet() # create the NN model\n",
        "nn.fit(Xtrain, ytrain) #train the model"
      ],
      "metadata": {
        "id": "7VAvSYr6qgOY"
      },
      "execution_count": null,
      "outputs": []
    },
    {
      "cell_type": "code",
      "source": [
        "nn.plot_loss()"
      ],
      "metadata": {
        "colab": {
          "base_uri": "https://localhost:8080/",
          "height": 295
        },
        "id": "Y-XbW2HesMqS",
        "outputId": "45e4b83a-a5bf-4345-94ea-b3c1b08237ac"
      },
      "execution_count": null,
      "outputs": [
        {
          "output_type": "display_data",
          "data": {
            "text/plain": [
              "<Figure size 432x288 with 1 Axes>"
            ],
            "image/png": "[encoded data removed]"
          },
          "metadata": {
            "needs_background": "light"
          }
        }
      ]
    },
    {
      "cell_type": "code",
      "source": [
        "train_pred = nn.predict(Xtrain)\n",
        "test_pred = nn.predict(Xtest)\n",
        "train_acc1 = nn.acc(ytrain, train_pred)\n",
        "test_acc1 = nn.acc(ytest, test_pred)\n",
        "\n",
        "a_test_pred = test_pred\n",
        "\n",
        "print(\"Train accuracy is {}%\".format(nn.acc(ytrain, train_pred)))\n",
        "print(\"Test accuracy is {}%\".format(nn.acc(ytest, test_pred)))"
      ],
      "metadata": {
        "colab": {
          "base_uri": "https://localhost:8080/"
        },
        "id": "P4laCSGFACzI",
        "outputId": "3f09b638-cea2-45e5-9e7f-2d1a06dc4cd1"
      },
      "execution_count": null,
      "outputs": [
        {
          "output_type": "stream",
          "name": "stdout",
          "text": [
            "Train accuracy is 69%\n",
            "Test accuracy is 76%\n"
          ]
        }
      ]
    },
    {
      "cell_type": "code",
      "source": [
        "test_pred"
      ],
      "metadata": {
        "id": "bHbALnXy6Ngs"
      },
      "execution_count": null,
      "outputs": []
    },
    {
      "cell_type": "markdown",
      "source": [
        "# **Model Training 2**"
      ],
      "metadata": {
        "id": "eNJ0pj8wA-2D"
      }
    },
    {
      "cell_type": "code",
      "source": [
        "nn = NeuralNet(layers=[7,10,2], learning_rate=0.01, iterations=500) # create the NN model\n",
        "nn.fit(Xtrain, ytrain) #train the model\n",
        "nn.plot_loss()"
      ],
      "metadata": {
        "colab": {
          "base_uri": "https://localhost:8080/",
          "height": 295
        },
        "id": "ltjB1LPBsT0B",
        "outputId": "253ab7a6-a640-4196-9671-22176707958a"
      },
      "execution_count": null,
      "outputs": [
        {
          "output_type": "display_data",
          "data": {
            "text/plain": [
              "<Figure size 432x288 with 1 Axes>"
            ],
            "image/png": "[encoded data removed]"
          },
          "metadata": {
            "needs_background": "light"
          }
        }
      ]
    },
    {
      "cell_type": "code",
      "source": [
        "train_pred = nn.predict(Xtrain)\n",
        "test_pred = nn.predict(Xtest)\n",
        "train_acc2 = nn.acc(ytrain, train_pred)\n",
        "test_acc2 = nn.acc(ytest, test_pred)\n",
        "\n",
        "b_test_pred = test_pred\n",
        "\n",
        "print(\"Train accuracy is {}%\".format(nn.acc(ytrain, train_pred)))\n",
        "print(\"Test accuracy is {}%\".format(nn.acc(ytest, test_pred)))"
      ],
      "metadata": {
        "colab": {
          "base_uri": "https://localhost:8080/"
        },
        "id": "7abbN2ikseaY",
        "outputId": "993340fe-dd16-483b-b6ca-bfcb43624956"
      },
      "execution_count": null,
      "outputs": [
        {
          "output_type": "stream",
          "name": "stdout",
          "text": [
            "Train accuracy is 71%\n",
            "Test accuracy is 76%\n"
          ]
        }
      ]
    },
    {
      "cell_type": "markdown",
      "source": [
        "# **Model Training 3**"
      ],
      "metadata": {
        "id": "BBM_u33zBiEp"
      }
    },
    {
      "cell_type": "code",
      "source": [
        "nn = NeuralNet(layers=[7,12,2], learning_rate=0.01, iterations=1000) # create the NN model\n",
        "nn.fit(Xtrain, ytrain) #train the model\n",
        "nn.plot_loss()"
      ],
      "metadata": {
        "colab": {
          "base_uri": "https://localhost:8080/",
          "height": 295
        },
        "id": "CSiadXccAI6h",
        "outputId": "efd41148-4128-451c-fd95-d0475a139028"
      },
      "execution_count": null,
      "outputs": [
        {
          "output_type": "display_data",
          "data": {
            "text/plain": [
              "<Figure size 432x288 with 1 Axes>"
            ],
            "image/png": "[encoded data removed]"
          },
          "metadata": {
            "needs_background": "light"
          }
        }
      ]
    },
    {
      "cell_type": "code",
      "source": [
        "train_pred = nn.predict(Xtrain)\n",
        "test_pred = nn.predict(Xtest)\n",
        "train_acc3 = nn.acc(ytrain, train_pred)\n",
        "test_acc3 = nn.acc(ytest, test_pred)\n",
        "\n",
        "c_test_pred = test_pred\n",
        "\n",
        "print(\"Train accuracy is {}%\".format(nn.acc(ytrain, train_pred)))\n",
        "print(\"Test accuracy is {}%\".format(nn.acc(ytest, test_pred)))"
      ],
      "metadata": {
        "colab": {
          "base_uri": "https://localhost:8080/"
        },
        "id": "YXqUHp2cAdCA",
        "outputId": "68a09952-d920-45ac-f287-50cab7335ada"
      },
      "execution_count": null,
      "outputs": [
        {
          "output_type": "stream",
          "name": "stdout",
          "text": [
            "Train accuracy is 79%\n",
            "Test accuracy is 72%\n"
          ]
        }
      ]
    },
    {
      "cell_type": "markdown",
      "source": [
        "# **Model Training 4**"
      ],
      "metadata": {
        "id": "LbUvY4clCLLN"
      }
    },
    {
      "cell_type": "code",
      "source": [
        "nn = NeuralNet(layers=[7,20,2], learning_rate=0.01, iterations=5000) # create the NN model\n",
        "nn.fit(Xtrain, ytrain) #train the model\n",
        "nn.plot_loss()"
      ],
      "metadata": {
        "colab": {
          "base_uri": "https://localhost:8080/",
          "height": 295
        },
        "id": "_JzpSAF9CBmu",
        "outputId": "8888fb75-9cf4-48c0-f6d5-8665f503da46"
      },
      "execution_count": null,
      "outputs": [
        {
          "output_type": "display_data",
          "data": {
            "text/plain": [
              "<Figure size 432x288 with 1 Axes>"
            ],
            "image/png": "[encoded data removed]"
          },
          "metadata": {
            "needs_background": "light"
          }
        }
      ]
    },
    {
      "cell_type": "code",
      "source": [
        "train_pred = nn.predict(Xtrain)\n",
        "test_pred = nn.predict(Xtest)\n",
        "train_acc4 = nn.acc(ytrain, train_pred)\n",
        "test_acc4 = nn.acc(ytest, test_pred)\n",
        "\n",
        "d_test_pred = test_pred\n",
        "\n",
        "print(\"Train accuracy is {}%\".format(nn.acc(ytrain, train_pred)))\n",
        "print(\"Test accuracy is {}%\".format(nn.acc(ytest, test_pred)))"
      ],
      "metadata": {
        "colab": {
          "base_uri": "https://localhost:8080/"
        },
        "id": "FmflEIyOCHHm",
        "outputId": "43225fb5-9b42-480b-addb-9a5daa87a6c1"
      },
      "execution_count": null,
      "outputs": [
        {
          "output_type": "stream",
          "name": "stdout",
          "text": [
            "Train accuracy is 83%\n",
            "Test accuracy is 72%\n"
          ]
        }
      ]
    },
    {
      "cell_type": "markdown",
      "source": [
        "# **Comparison**"
      ],
      "metadata": {
        "id": "EXwOfcx0FiO1"
      }
    },
    {
      "cell_type": "code",
      "source": [
        "\n",
        "# A python dictionary\n",
        "\n",
        "data = {'Train Accuracy': [train_acc1, train_acc2, train_acc3, train_acc4],\n",
        "        'Test Accuracy': [test_acc1, test_acc2, test_acc3, test_acc4]}\n",
        "\n",
        "index     = ['Experiment 1',\n",
        "                               'Experiment 2',\n",
        "                               'Experiment 3',\n",
        "                               'Experiment 4'];\n",
        "\n",
        "# Dictionary loaded into a DataFrame\n",
        "\n",
        "dataFrame = pd.DataFrame(data=data, index=index);\n",
        "\n",
        "\n",
        "\n",
        "# Draw a vertical bar chart\n",
        "\n",
        "dataFrame.plot.bar(rot=15, title=\"comparision of experiment\",width = 0.1 , figsize=(18,5));\n",
        "plt.show(block=True);"
      ],
      "metadata": {
        "colab": {
          "base_uri": "https://localhost:8080/",
          "height": 353
        },
        "id": "2_nO9aPhInNq",
        "outputId": "d0547aac-0d52-49d2-9607-27c4d2926e43"
      },
      "execution_count": null,
      "outputs": [
        {
          "output_type": "display_data",
          "data": {
            "text/plain": [
              "<Figure size 1296x360 with 1 Axes>"
            ],
            "image/png": "[encoded data removed]"
          },
          "metadata": {
            "needs_background": "light"
          }
        }
      ]
    },
    {
      "cell_type": "code",
      "source": [
        "%matplotlib inline\n",
        "from sklearn.metrics import confusion_matrix\n",
        "import itertools\n",
        "import matplotlib.pyplot as plt\n",
        "\n",
        "cm = confusion_matrix(np.asarray(ytest).argmax(axis=1), b_test_pred.argmax(axis=1))"
      ],
      "metadata": {
        "id": "Wm_TKIDBwNsR"
      },
      "execution_count": null,
      "outputs": []
    },
    {
      "cell_type": "code",
      "source": [
        "def plot_confusion_matrix(cm, classes,\n",
        "                        normalize=False,\n",
        "                        title='Confusion matrix',\n",
        "                        cmap=plt.cm.Blues):\n",
        "    \"\"\"\n",
        "    This function prints and plots the confusion matrix.\n",
        "    Normalization can be applied by setting `normalize=True`.\n",
        "    \"\"\"\n",
        "    plt.imshow(cm, interpolation='nearest', cmap=cmap)\n",
        "    plt.title(title)\n",
        "    plt.colorbar()\n",
        "    tick_marks = np.arange(len(classes))\n",
        "    plt.xticks(tick_marks, classes, rotation=45)\n",
        "    plt.yticks(tick_marks, classes)\n",
        "\n",
        "    if normalize:\n",
        "        cm = cm.astype('float') / cm.sum(axis=1)[:, np.newaxis]\n",
        "        print(\"Normalized confusion matrix\")\n",
        "    else:\n",
        "        print('Confusion matrix, without normalization')\n",
        "\n",
        "    print(cm)\n",
        "\n",
        "    thresh = cm.max() / 2.\n",
        "    for i, j in itertools.product(range(cm.shape[0]), range(cm.shape[1])):\n",
        "        plt.text(j, i, cm[i, j],\n",
        "            horizontalalignment=\"center\",\n",
        "            color=\"white\" if cm[i, j] > thresh else \"black\")\n",
        "\n",
        "    plt.tight_layout()\n",
        "    plt.ylabel('True label')\n",
        "    plt.xlabel('Predicted label')"
      ],
      "metadata": {
        "id": "q5xQU709wn1E"
      },
      "execution_count": null,
      "outputs": []
    },
    {
      "cell_type": "code",
      "source": [
        "cm_plot_labels = ['no_diabetes', 'has_diabetes']\n",
        "plot_confusion_matrix(cm=cm, classes=cm_plot_labels, title='Confusion Matrix')"
      ],
      "metadata": {
        "colab": {
          "base_uri": "https://localhost:8080/",
          "height": 363
        },
        "id": "GVxWIzAWwrJc",
        "outputId": "6ae0284d-cbc5-4807-f4dc-e3a77ea695e2"
      },
      "execution_count": null,
      "outputs": [
        {
          "output_type": "stream",
          "name": "stdout",
          "text": [
            "Confusion matrix, without normalization\n",
            "[[106   3]\n",
            " [ 33  12]]\n"
          ]
        },
        {
          "output_type": "display_data",
          "data": {
            "text/plain": [
              "<Figure size 432x288 with 2 Axes>"
            ],
            "image/png": "[encoded data removed]"
          },
          "metadata": {
            "needs_background": "light"
          }
        }
      ]
    }
  ]
}